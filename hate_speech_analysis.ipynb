{
 "cells": [
  {
   "cell_type": "code",
   "execution_count": 2,
   "id": "1d77364c",
   "metadata": {},
   "outputs": [],
   "source": [
    "import pandas as pd\n",
    "import numpy as np\n",
    "import matplotlib.pyplot as plt\n",
    "import seaborn as sns\n",
    "import nltk"
   ]
  },
  {
   "cell_type": "code",
   "execution_count": 3,
   "id": "2dd3912f",
   "metadata": {},
   "outputs": [
    {
     "data": {
      "text/html": [
       "<div>\n",
       "<style scoped>\n",
       "    .dataframe tbody tr th:only-of-type {\n",
       "        vertical-align: middle;\n",
       "    }\n",
       "\n",
       "    .dataframe tbody tr th {\n",
       "        vertical-align: top;\n",
       "    }\n",
       "\n",
       "    .dataframe thead th {\n",
       "        text-align: right;\n",
       "    }\n",
       "</style>\n",
       "<table border=\"1\" class=\"dataframe\">\n",
       "  <thead>\n",
       "    <tr style=\"text-align: right;\">\n",
       "      <th></th>\n",
       "      <th>Text</th>\n",
       "      <th>Target</th>\n",
       "    </tr>\n",
       "  </thead>\n",
       "  <tbody>\n",
       "    <tr>\n",
       "      <th>0</th>\n",
       "      <td>गुठी विधेक ल्याएर ठमेल राज गुठि जग्गा छाया सेन...</td>\n",
       "      <td>0</td>\n",
       "    </tr>\n",
       "    <tr>\n",
       "      <th>1</th>\n",
       "      <td>दले देश सकेछन बेचे खान सुरू गरेछन दले लखेटनु पछ ।</td>\n",
       "      <td>1</td>\n",
       "    </tr>\n",
       "    <tr>\n",
       "      <th>2</th>\n",
       "      <td>नेपाल ससकृती ध्वस्त पार्ने योजना !</td>\n",
       "      <td>1</td>\n",
       "    </tr>\n",
       "    <tr>\n",
       "      <th>3</th>\n",
       "      <td>मठ मन्दिर गुम्बा जग्गा हरु भुमाफिया नजर परे हु...</td>\n",
       "      <td>1</td>\n",
       "    </tr>\n",
       "    <tr>\n",
       "      <th>4</th>\n",
       "      <td>नेपाल कल कर्खाना नदि नाला बेची सके मठ मन्दीर ब...</td>\n",
       "      <td>1</td>\n",
       "    </tr>\n",
       "  </tbody>\n",
       "</table>\n",
       "</div>"
      ],
      "text/plain": [
       "                                                Text  Target\n",
       "0  गुठी विधेक ल्याएर ठमेल राज गुठि जग्गा छाया सेन...       0\n",
       "1  दले देश सकेछन बेचे खान सुरू गरेछन दले लखेटनु पछ ।       1\n",
       "2                 नेपाल ससकृती ध्वस्त पार्ने योजना !       1\n",
       "3  मठ मन्दिर गुम्बा जग्गा हरु भुमाफिया नजर परे हु...       1\n",
       "4  नेपाल कल कर्खाना नदि नाला बेची सके मठ मन्दीर ब...       1"
      ]
     },
     "execution_count": 3,
     "metadata": {},
     "output_type": "execute_result"
    }
   ],
   "source": [
    "db=pd.read_csv('Cleaned_Nepali_dataset.csv')\n",
    "db.head()"
   ]
  },
  {
   "cell_type": "code",
   "execution_count": 4,
   "id": "0d657554",
   "metadata": {},
   "outputs": [
    {
     "name": "stdout",
     "output_type": "stream",
     "text": [
      "<class 'pandas.core.frame.DataFrame'>\n",
      "RangeIndex: 2639 entries, 0 to 2638\n",
      "Data columns (total 2 columns):\n",
      " #   Column  Non-Null Count  Dtype \n",
      "---  ------  --------------  ----- \n",
      " 0   Text    2639 non-null   object\n",
      " 1   Target  2639 non-null   int64 \n",
      "dtypes: int64(1), object(1)\n",
      "memory usage: 41.4+ KB\n"
     ]
    }
   ],
   "source": [
    "\n",
    "db.info()"
   ]
  },
  {
   "cell_type": "code",
   "execution_count": 5,
   "id": "da3f5512",
   "metadata": {},
   "outputs": [
    {
     "data": {
      "text/html": [
       "<div>\n",
       "<style scoped>\n",
       "    .dataframe tbody tr th:only-of-type {\n",
       "        vertical-align: middle;\n",
       "    }\n",
       "\n",
       "    .dataframe tbody tr th {\n",
       "        vertical-align: top;\n",
       "    }\n",
       "\n",
       "    .dataframe thead th {\n",
       "        text-align: right;\n",
       "    }\n",
       "</style>\n",
       "<table border=\"1\" class=\"dataframe\">\n",
       "  <thead>\n",
       "    <tr style=\"text-align: right;\">\n",
       "      <th></th>\n",
       "      <th>Target</th>\n",
       "    </tr>\n",
       "  </thead>\n",
       "  <tbody>\n",
       "    <tr>\n",
       "      <th>count</th>\n",
       "      <td>2639.000000</td>\n",
       "    </tr>\n",
       "    <tr>\n",
       "      <th>mean</th>\n",
       "      <td>1.275862</td>\n",
       "    </tr>\n",
       "    <tr>\n",
       "      <th>std</th>\n",
       "      <td>1.379088</td>\n",
       "    </tr>\n",
       "    <tr>\n",
       "      <th>min</th>\n",
       "      <td>0.000000</td>\n",
       "    </tr>\n",
       "    <tr>\n",
       "      <th>25%</th>\n",
       "      <td>0.000000</td>\n",
       "    </tr>\n",
       "    <tr>\n",
       "      <th>50%</th>\n",
       "      <td>1.000000</td>\n",
       "    </tr>\n",
       "    <tr>\n",
       "      <th>75%</th>\n",
       "      <td>2.000000</td>\n",
       "    </tr>\n",
       "    <tr>\n",
       "      <th>max</th>\n",
       "      <td>5.000000</td>\n",
       "    </tr>\n",
       "  </tbody>\n",
       "</table>\n",
       "</div>"
      ],
      "text/plain": [
       "            Target\n",
       "count  2639.000000\n",
       "mean      1.275862\n",
       "std       1.379088\n",
       "min       0.000000\n",
       "25%       0.000000\n",
       "50%       1.000000\n",
       "75%       2.000000\n",
       "max       5.000000"
      ]
     },
     "execution_count": 5,
     "metadata": {},
     "output_type": "execute_result"
    }
   ],
   "source": [
    "db.describe()"
   ]
  },
  {
   "cell_type": "code",
   "execution_count": 6,
   "id": "b7dfbcbb",
   "metadata": {},
   "outputs": [
    {
     "data": {
      "text/plain": [
       "Text      0\n",
       "Target    0\n",
       "dtype: int64"
      ]
     },
     "execution_count": 6,
     "metadata": {},
     "output_type": "execute_result"
    }
   ],
   "source": [
    "db.isnull().sum()"
   ]
  },
  {
   "cell_type": "markdown",
   "id": "eaf82f2c",
   "metadata": {},
   "source": [
    "# Preprocessing"
   ]
  },
  {
   "cell_type": "code",
   "execution_count": 7,
   "id": "7d2e62dd",
   "metadata": {},
   "outputs": [],
   "source": [
    "from nltk.corpus import stopwords\n",
    "from nltk.stem import WordNetLemmatizer"
   ]
  },
  {
   "cell_type": "code",
   "execution_count": 8,
   "id": "8adbd223",
   "metadata": {},
   "outputs": [
    {
     "name": "stderr",
     "output_type": "stream",
     "text": [
      "[nltk_data] Downloading package punkt_tab to\n",
      "[nltk_data]     C:\\Users\\shres\\AppData\\Roaming\\nltk_data...\n",
      "[nltk_data]   Package punkt_tab is already up-to-date!\n",
      "[nltk_data] Downloading package stopwords to\n",
      "[nltk_data]     C:\\Users\\shres\\AppData\\Roaming\\nltk_data...\n",
      "[nltk_data]   Package stopwords is already up-to-date!\n",
      "[nltk_data] Downloading package wordnet to\n",
      "[nltk_data]     C:\\Users\\shres\\AppData\\Roaming\\nltk_data...\n",
      "[nltk_data]   Package wordnet is already up-to-date!\n"
     ]
    },
    {
     "data": {
      "text/plain": [
       "True"
      ]
     },
     "execution_count": 8,
     "metadata": {},
     "output_type": "execute_result"
    }
   ],
   "source": [
    "nltk.download('punkt_tab')\n",
    "nltk.download('stopwords')\n",
    "nltk.download('wordnet')"
   ]
  },
  {
   "cell_type": "code",
   "execution_count": 9,
   "id": "2c84d333",
   "metadata": {},
   "outputs": [
    {
     "name": "stdout",
     "output_type": "stream",
     "text": [
      "Number of stop words 255\n"
     ]
    }
   ],
   "source": [
    "stop_word = nltk.corpus.stopwords.words('nepali')\n",
    "print('Number of stop words', len(stop_word))"
   ]
  },
  {
   "cell_type": "code",
   "execution_count": 10,
   "id": "cb629516",
   "metadata": {},
   "outputs": [],
   "source": [
    "import re\n",
    "\n",
    "def tokenize(text):\n",
    "    if not isinstance(text, str):\n",
    "        text = str(text)\n",
    "\n",
    "    # Lowercase\n",
    "    text = text.lower()\n",
    "\n",
    "    # Remove punctuation\n",
    "    text = re.sub(r'[^\\w\\s]', '', text)\n",
    "\n",
    "    # Remove numbers\n",
    "    text = re.sub(r'\\d+', '', text)\n",
    "\n",
    "    # Strip whitespace\n",
    "    text = text.strip()\n",
    "\n",
    "    # Sentence tokenization\n",
    "    sentences = nltk.sent_tokenize(text)\n",
    "\n",
    "    # Word tokenization and remove stopwords\n",
    "    stop_words = nltk.corpus.stopwords.words('nepali')\n",
    "    words = [\n",
    "        word for sentence in sentences\n",
    "        for word in nltk.word_tokenize(sentence)\n",
    "        if word.lower() not in stop_words\n",
    "    ]\n",
    "\n",
    "    return words\n"
   ]
  },
  {
   "cell_type": "code",
   "execution_count": 11,
   "id": "d87ea428",
   "metadata": {},
   "outputs": [
    {
     "data": {
      "text/html": [
       "<div>\n",
       "<style scoped>\n",
       "    .dataframe tbody tr th:only-of-type {\n",
       "        vertical-align: middle;\n",
       "    }\n",
       "\n",
       "    .dataframe tbody tr th {\n",
       "        vertical-align: top;\n",
       "    }\n",
       "\n",
       "    .dataframe thead th {\n",
       "        text-align: right;\n",
       "    }\n",
       "</style>\n",
       "<table border=\"1\" class=\"dataframe\">\n",
       "  <thead>\n",
       "    <tr style=\"text-align: right;\">\n",
       "      <th></th>\n",
       "      <th>Text</th>\n",
       "      <th>Target</th>\n",
       "      <th>text_tokenize</th>\n",
       "    </tr>\n",
       "  </thead>\n",
       "  <tbody>\n",
       "    <tr>\n",
       "      <th>0</th>\n",
       "      <td>गुठी विधेक ल्याएर ठमेल राज गुठि जग्गा छाया सेन...</td>\n",
       "      <td>0</td>\n",
       "      <td>[गठ, वधक, लयएर, ठमल, रज, गठ, जगग, छय, सनटर, जस...</td>\n",
       "    </tr>\n",
       "    <tr>\n",
       "      <th>1</th>\n",
       "      <td>दले देश सकेछन बेचे खान सुरू गरेछन दले लखेटनु पछ ।</td>\n",
       "      <td>1</td>\n",
       "      <td>[दल, दश, सकछन, बच, खन, सर, गरछन, दल, लखटन, पछ]</td>\n",
       "    </tr>\n",
       "    <tr>\n",
       "      <th>2</th>\n",
       "      <td>नेपाल ससकृती ध्वस्त पार्ने योजना !</td>\n",
       "      <td>1</td>\n",
       "      <td>[नपल, ससकत, धवसत, परन, यजन]</td>\n",
       "    </tr>\n",
       "    <tr>\n",
       "      <th>3</th>\n",
       "      <td>मठ मन्दिर गुम्बा जग्गा हरु भुमाफिया नजर परे हु...</td>\n",
       "      <td>1</td>\n",
       "      <td>[मठ, मनदर, गमब, जगग, हर, भमफय, नजर, पर, हन, वधक]</td>\n",
       "    </tr>\n",
       "    <tr>\n",
       "      <th>4</th>\n",
       "      <td>नेपाल कल कर्खाना नदि नाला बेची सके मठ मन्दीर ब...</td>\n",
       "      <td>1</td>\n",
       "      <td>[नपल, कल, करखन, नद, नल, बच, सक, मठ, मनदर, बच, ...</td>\n",
       "    </tr>\n",
       "  </tbody>\n",
       "</table>\n",
       "</div>"
      ],
      "text/plain": [
       "                                                Text  Target  \\\n",
       "0  गुठी विधेक ल्याएर ठमेल राज गुठि जग्गा छाया सेन...       0   \n",
       "1  दले देश सकेछन बेचे खान सुरू गरेछन दले लखेटनु पछ ।       1   \n",
       "2                 नेपाल ससकृती ध्वस्त पार्ने योजना !       1   \n",
       "3  मठ मन्दिर गुम्बा जग्गा हरु भुमाफिया नजर परे हु...       1   \n",
       "4  नेपाल कल कर्खाना नदि नाला बेची सके मठ मन्दीर ब...       1   \n",
       "\n",
       "                                       text_tokenize  \n",
       "0  [गठ, वधक, लयएर, ठमल, रज, गठ, जगग, छय, सनटर, जस...  \n",
       "1     [दल, दश, सकछन, बच, खन, सर, गरछन, दल, लखटन, पछ]  \n",
       "2                        [नपल, ससकत, धवसत, परन, यजन]  \n",
       "3   [मठ, मनदर, गमब, जगग, हर, भमफय, नजर, पर, हन, वधक]  \n",
       "4  [नपल, कल, करखन, नद, नल, बच, सक, मठ, मनदर, बच, ...  "
      ]
     },
     "execution_count": 11,
     "metadata": {},
     "output_type": "execute_result"
    }
   ],
   "source": [
    "\n",
    "db['text_tokenize']=db['Text'].apply(tokenize)\n",
    "db.head()"
   ]
  },
  {
   "cell_type": "markdown",
   "id": "6ed6a8a8",
   "metadata": {},
   "source": [
    "# vectorization"
   ]
  },
  {
   "cell_type": "code",
   "execution_count": 12,
   "id": "4f3631bf",
   "metadata": {},
   "outputs": [],
   "source": [
    "from sklearn.feature_extraction.text import TfidfVectorizer\n"
   ]
  },
  {
   "cell_type": "code",
   "execution_count": 13,
   "id": "f0a0fa9d",
   "metadata": {},
   "outputs": [],
   "source": [
    "db[\"text_tokenize\"] = db[\"text_tokenize\"].apply(lambda tokens: \" \".join(tokens))"
   ]
  },
  {
   "cell_type": "code",
   "execution_count": 14,
   "id": "8e4ae1d6",
   "metadata": {},
   "outputs": [],
   "source": [
    "vectorizer = TfidfVectorizer()\n",
    "text_idf = vectorizer.fit_transform(db[\"text_tokenize\"])"
   ]
  },
  {
   "cell_type": "code",
   "execution_count": 15,
   "id": "565632e9",
   "metadata": {},
   "outputs": [
    {
     "data": {
      "text/html": [
       "<div>\n",
       "<style scoped>\n",
       "    .dataframe tbody tr th:only-of-type {\n",
       "        vertical-align: middle;\n",
       "    }\n",
       "\n",
       "    .dataframe tbody tr th {\n",
       "        vertical-align: top;\n",
       "    }\n",
       "\n",
       "    .dataframe thead th {\n",
       "        text-align: right;\n",
       "    }\n",
       "</style>\n",
       "<table border=\"1\" class=\"dataframe\">\n",
       "  <thead>\n",
       "    <tr style=\"text-align: right;\">\n",
       "      <th></th>\n",
       "      <th>Text</th>\n",
       "      <th>Target</th>\n",
       "      <th>text_tokenize</th>\n",
       "      <th>text_idf</th>\n",
       "    </tr>\n",
       "  </thead>\n",
       "  <tbody>\n",
       "    <tr>\n",
       "      <th>0</th>\n",
       "      <td>गुठी विधेक ल्याएर ठमेल राज गुठि जग्गा छाया सेन...</td>\n",
       "      <td>0</td>\n",
       "      <td>गठ वधक लयएर ठमल रज गठ जगग छय सनटर जसत जगउन लयउ...</td>\n",
       "      <td>[0.0, 0.0, 0.0, 0.0, 0.0, 0.0, 0.0, 0.0, 0.0, ...</td>\n",
       "    </tr>\n",
       "    <tr>\n",
       "      <th>1</th>\n",
       "      <td>दले देश सकेछन बेचे खान सुरू गरेछन दले लखेटनु पछ ।</td>\n",
       "      <td>1</td>\n",
       "      <td>दल दश सकछन बच खन सर गरछन दल लखटन पछ</td>\n",
       "      <td>[0.0, 0.0, 0.0, 0.0, 0.0, 0.0, 0.0, 0.0, 0.0, ...</td>\n",
       "    </tr>\n",
       "    <tr>\n",
       "      <th>2</th>\n",
       "      <td>नेपाल ससकृती ध्वस्त पार्ने योजना !</td>\n",
       "      <td>1</td>\n",
       "      <td>नपल ससकत धवसत परन यजन</td>\n",
       "      <td>[0.0, 0.0, 0.0, 0.0, 0.0, 0.0, 0.0, 0.0, 0.0, ...</td>\n",
       "    </tr>\n",
       "  </tbody>\n",
       "</table>\n",
       "</div>"
      ],
      "text/plain": [
       "                                                Text  Target  \\\n",
       "0  गुठी विधेक ल्याएर ठमेल राज गुठि जग्गा छाया सेन...       0   \n",
       "1  दले देश सकेछन बेचे खान सुरू गरेछन दले लखेटनु पछ ।       1   \n",
       "2                 नेपाल ससकृती ध्वस्त पार्ने योजना !       1   \n",
       "\n",
       "                                       text_tokenize  \\\n",
       "0  गठ वधक लयएर ठमल रज गठ जगग छय सनटर जसत जगउन लयउ...   \n",
       "1                दल दश सकछन बच खन सर गरछन दल लखटन पछ   \n",
       "2                              नपल ससकत धवसत परन यजन   \n",
       "\n",
       "                                            text_idf  \n",
       "0  [0.0, 0.0, 0.0, 0.0, 0.0, 0.0, 0.0, 0.0, 0.0, ...  \n",
       "1  [0.0, 0.0, 0.0, 0.0, 0.0, 0.0, 0.0, 0.0, 0.0, ...  \n",
       "2  [0.0, 0.0, 0.0, 0.0, 0.0, 0.0, 0.0, 0.0, 0.0, ...  "
      ]
     },
     "execution_count": 15,
     "metadata": {},
     "output_type": "execute_result"
    }
   ],
   "source": [
    "\n",
    "db[\"text_idf\"] = list(text_idf.toarray())\n",
    "db.head(3)"
   ]
  },
  {
   "cell_type": "code",
   "execution_count": 16,
   "id": "7a4edbd4",
   "metadata": {},
   "outputs": [],
   "source": [
    "idf_df = db[[ \"text_idf\", \"Target\"]].copy()"
   ]
  },
  {
   "cell_type": "code",
   "execution_count": 17,
   "id": "9a21551b",
   "metadata": {},
   "outputs": [
    {
     "data": {
      "text/html": [
       "<div>\n",
       "<style scoped>\n",
       "    .dataframe tbody tr th:only-of-type {\n",
       "        vertical-align: middle;\n",
       "    }\n",
       "\n",
       "    .dataframe tbody tr th {\n",
       "        vertical-align: top;\n",
       "    }\n",
       "\n",
       "    .dataframe thead th {\n",
       "        text-align: right;\n",
       "    }\n",
       "</style>\n",
       "<table border=\"1\" class=\"dataframe\">\n",
       "  <thead>\n",
       "    <tr style=\"text-align: right;\">\n",
       "      <th></th>\n",
       "      <th>text_idf</th>\n",
       "      <th>Target</th>\n",
       "    </tr>\n",
       "  </thead>\n",
       "  <tbody>\n",
       "    <tr>\n",
       "      <th>0</th>\n",
       "      <td>[0.0, 0.0, 0.0, 0.0, 0.0, 0.0, 0.0, 0.0, 0.0, ...</td>\n",
       "      <td>0</td>\n",
       "    </tr>\n",
       "    <tr>\n",
       "      <th>1</th>\n",
       "      <td>[0.0, 0.0, 0.0, 0.0, 0.0, 0.0, 0.0, 0.0, 0.0, ...</td>\n",
       "      <td>1</td>\n",
       "    </tr>\n",
       "    <tr>\n",
       "      <th>2</th>\n",
       "      <td>[0.0, 0.0, 0.0, 0.0, 0.0, 0.0, 0.0, 0.0, 0.0, ...</td>\n",
       "      <td>1</td>\n",
       "    </tr>\n",
       "    <tr>\n",
       "      <th>3</th>\n",
       "      <td>[0.0, 0.0, 0.0, 0.0, 0.0, 0.0, 0.0, 0.0, 0.0, ...</td>\n",
       "      <td>1</td>\n",
       "    </tr>\n",
       "    <tr>\n",
       "      <th>4</th>\n",
       "      <td>[0.0, 0.0, 0.0, 0.0, 0.0, 0.0, 0.0, 0.0, 0.0, ...</td>\n",
       "      <td>1</td>\n",
       "    </tr>\n",
       "  </tbody>\n",
       "</table>\n",
       "</div>"
      ],
      "text/plain": [
       "                                            text_idf  Target\n",
       "0  [0.0, 0.0, 0.0, 0.0, 0.0, 0.0, 0.0, 0.0, 0.0, ...       0\n",
       "1  [0.0, 0.0, 0.0, 0.0, 0.0, 0.0, 0.0, 0.0, 0.0, ...       1\n",
       "2  [0.0, 0.0, 0.0, 0.0, 0.0, 0.0, 0.0, 0.0, 0.0, ...       1\n",
       "3  [0.0, 0.0, 0.0, 0.0, 0.0, 0.0, 0.0, 0.0, 0.0, ...       1\n",
       "4  [0.0, 0.0, 0.0, 0.0, 0.0, 0.0, 0.0, 0.0, 0.0, ...       1"
      ]
     },
     "execution_count": 17,
     "metadata": {},
     "output_type": "execute_result"
    }
   ],
   "source": [
    "idf_df.head()"
   ]
  },
  {
   "cell_type": "code",
   "execution_count": 18,
   "id": "00a1791e",
   "metadata": {},
   "outputs": [],
   "source": [
    "idf_df[\"text_idf\"] = idf_df[\"text_idf\"].apply(lambda x: np.array(x).flatten())"
   ]
  },
  {
   "cell_type": "markdown",
   "id": "881d2872",
   "metadata": {},
   "source": [
    "# Creating model for hate speech analysis"
   ]
  },
  {
   "cell_type": "code",
   "execution_count": 19,
   "id": "b26f06dd",
   "metadata": {},
   "outputs": [],
   "source": [
    "from sklearn.model_selection import train_test_split"
   ]
  },
  {
   "cell_type": "code",
   "execution_count": 20,
   "id": "9b5c7ca5",
   "metadata": {},
   "outputs": [],
   "source": [
    "x= idf_df[[ \"text_idf\"]]\n",
    "y= idf_df[\"Target\"]"
   ]
  },
  {
   "cell_type": "code",
   "execution_count": 21,
   "id": "62607e74",
   "metadata": {},
   "outputs": [
    {
     "name": "stdout",
     "output_type": "stream",
     "text": [
      "Training set shape : (2111, 1) (2111,)\n",
      "Testing set shape : (528, 1) (528,)\n"
     ]
    }
   ],
   "source": [
    "x_train, x_test, y_train, y_test = train_test_split(x, y, test_size=0.2, random_state=42)\n",
    "print('Training set shape :',x_train.shape,y_train.shape)\n",
    "print('Testing set shape :',x_test.shape,y_test.shape)"
   ]
  },
  {
   "cell_type": "code",
   "execution_count": 22,
   "id": "564a0bca",
   "metadata": {},
   "outputs": [],
   "source": [
    "import tensorflow as tf\n",
    "from keras import Sequential\n",
    "from keras.layers import Embedding ,LSTM ,Dense,Dropout\n",
    "from keras.preprocessing.sequence import pad_sequences"
   ]
  },
  {
   "cell_type": "code",
   "execution_count": 27,
   "id": "cdeb942d",
   "metadata": {},
   "outputs": [],
   "source": [
    "max_sequence_length = x_train['text_idf'].apply(len).max()\n",
    "# Flatten the lists on the Dataframe columnsabs\n",
    "x_train_text_padded = pad_sequences(np.array(x_train['text_idf'].tolist()), maxlen=max_sequence_length)\n",
    "x_test_text_padded = pad_sequences(np.array(x_test['text_idf'].tolist()), maxlen=max_sequence_length)\n"
   ]
  },
  {
   "cell_type": "code",
   "execution_count": 31,
   "id": "9b7d01e7",
   "metadata": {},
   "outputs": [
    {
     "name": "stdout",
     "output_type": "stream",
     "text": [
      "Epoch 1/10\n",
      "\u001b[1m53/53\u001b[0m \u001b[32m━━━━━━━━━━━━━━━━━━━━\u001b[0m\u001b[37m\u001b[0m \u001b[1m5s\u001b[0m 21ms/step - accuracy: 0.3681 - loss: 0.6434 - val_accuracy: 0.3735 - val_loss: 0.2269\n",
      "Epoch 2/10\n",
      "\u001b[1m53/53\u001b[0m \u001b[32m━━━━━━━━━━━━━━━━━━━━\u001b[0m\u001b[37m\u001b[0m \u001b[1m1s\u001b[0m 19ms/step - accuracy: 0.3857 - loss: -0.1355 - val_accuracy: 0.3735 - val_loss: -1.6452\n",
      "Epoch 3/10\n",
      "\u001b[1m53/53\u001b[0m \u001b[32m━━━━━━━━━━━━━━━━━━━━\u001b[0m\u001b[37m\u001b[0m \u001b[1m1s\u001b[0m 15ms/step - accuracy: 0.3744 - loss: -1.8728 - val_accuracy: 0.3735 - val_loss: -4.0561\n",
      "Epoch 4/10\n",
      "\u001b[1m53/53\u001b[0m \u001b[32m━━━━━━━━━━━━━━━━━━━━\u001b[0m\u001b[37m\u001b[0m \u001b[1m1s\u001b[0m 18ms/step - accuracy: 0.3603 - loss: -4.3921 - val_accuracy: 0.3735 - val_loss: -5.9243\n",
      "Epoch 5/10\n",
      "\u001b[1m53/53\u001b[0m \u001b[32m━━━━━━━━━━━━━━━━━━━━\u001b[0m\u001b[37m\u001b[0m \u001b[1m1s\u001b[0m 14ms/step - accuracy: 0.3826 - loss: -5.4195 - val_accuracy: 0.3735 - val_loss: -7.1613\n",
      "Epoch 6/10\n",
      "\u001b[1m53/53\u001b[0m \u001b[32m━━━━━━━━━━━━━━━━━━━━\u001b[0m\u001b[37m\u001b[0m \u001b[1m1s\u001b[0m 15ms/step - accuracy: 0.3752 - loss: -6.8081 - val_accuracy: 0.3735 - val_loss: -8.1528\n",
      "Epoch 7/10\n",
      "\u001b[1m53/53\u001b[0m \u001b[32m━━━━━━━━━━━━━━━━━━━━\u001b[0m\u001b[37m\u001b[0m \u001b[1m1s\u001b[0m 16ms/step - accuracy: 0.3932 - loss: -6.0026 - val_accuracy: 0.3735 - val_loss: -8.9902\n",
      "Epoch 8/10\n",
      "\u001b[1m53/53\u001b[0m \u001b[32m━━━━━━━━━━━━━━━━━━━━\u001b[0m\u001b[37m\u001b[0m \u001b[1m1s\u001b[0m 24ms/step - accuracy: 0.3838 - loss: -8.5698 - val_accuracy: 0.3735 - val_loss: -9.8546\n",
      "Epoch 9/10\n",
      "\u001b[1m53/53\u001b[0m \u001b[32m━━━━━━━━━━━━━━━━━━━━\u001b[0m\u001b[37m\u001b[0m \u001b[1m1s\u001b[0m 17ms/step - accuracy: 0.3713 - loss: -8.0792 - val_accuracy: 0.3735 - val_loss: -10.5515\n",
      "Epoch 10/10\n",
      "\u001b[1m53/53\u001b[0m \u001b[32m━━━━━━━━━━━━━━━━━━━━\u001b[0m\u001b[37m\u001b[0m \u001b[1m1s\u001b[0m 15ms/step - accuracy: 0.3664 - loss: -8.4719 - val_accuracy: 0.3735 - val_loss: -11.2880\n",
      "\u001b[1m17/17\u001b[0m \u001b[32m━━━━━━━━━━━━━━━━━━━━\u001b[0m\u001b[37m\u001b[0m \u001b[1m0s\u001b[0m 5ms/step - accuracy: 0.3403 - loss: -7.2736\n",
      "Test loss : -8.976234436035156\n",
      "Test Accuracy : 0.3693181872367859\n"
     ]
    }
   ],
   "source": [
    "#Define the LSTM model\n",
    "model=Sequential()\n",
    "\n",
    "model.add(Dense(128,activation='relu',input_shape=(x_train_text_padded.shape[1],)))\n",
    "model.add(Dropout(0.2)) # Add dropout for regularization\n",
    "model.add(tf.keras.layers.Reshape((1,128))) # Reshape to (batch_size,time_steps)\n",
    "\n",
    "# NOw add the LSTM layer\n",
    "model.add(LSTM(64)) #We can adjust the number of LSTM units\n",
    "model.add(Dropout(0.2))\n",
    "model.add(Dense(1,activation='sigmoid')) #Output layer for binary classification\n",
    "\n",
    "# Compile the model\n",
    "model.compile(optimizer='adam',loss=\"binary_crossentropy\",metrics=[\"accuracy\"])\n",
    "\n",
    "# Train the model \n",
    "history=model.fit(x_train_text_padded,y_train,epochs=10,batch_size=32,validation_split=0.2)\n",
    "\n",
    "#Evaluate the model\n",
    "loss,accuracy=model.evaluate(x_test_text_padded,y_test)\n",
    "print(f\"Test loss : {loss}\")\n",
    "print(f\"Test Accuracy : {accuracy}\")"
   ]
  },
  {
   "cell_type": "code",
   "execution_count": null,
   "id": "66ceac55",
   "metadata": {},
   "outputs": [],
   "source": []
  }
 ],
 "metadata": {
  "kernelspec": {
   "display_name": "Python 3",
   "language": "python",
   "name": "python3"
  },
  "language_info": {
   "codemirror_mode": {
    "name": "ipython",
    "version": 3
   },
   "file_extension": ".py",
   "mimetype": "text/x-python",
   "name": "python",
   "nbconvert_exporter": "python",
   "pygments_lexer": "ipython3",
   "version": "3.12.3"
  }
 },
 "nbformat": 4,
 "nbformat_minor": 5
}
